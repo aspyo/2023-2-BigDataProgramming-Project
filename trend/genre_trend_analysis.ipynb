{
 "cells": [
  {
   "cell_type": "code",
   "execution_count": null,
   "metadata": {},
   "outputs": [],
   "source": [
    "# -*- coding: utf-8 -*-\n",
    "from pyspark.sql.window import Window\n",
    "from pyspark.sql import SparkSession\n",
    "from pyspark.sql.functions import lit, col, rank\n",
    "\n",
    "\n",
    "\n",
    "spark = SparkSession.builder.appName(\"Music Trend Analysis\").getOrCreate()\n",
    "\n",
    "hdfs_directory = \"hdfs:///user/maria_dev/melon_data/\"\n",
    "\n",
    "def load_dataframe(year):\n",
    "    file_path = \"{}melon{}.csv\".format(hdfs_directory, year)\n",
    "    df = spark.read.csv(file_path, header=True, inferSchema=True)\n",
    "    return df.withColumn(\"Year\", lit(year))\n",
    "\n",
    "year_range = range(1964, 2019)\n",
    "dataframes = [load_dataframe(year) for year in year_range]\n",
    "all_years_df = dataframes[0]\n",
    "for df in dataframes[1:]:\n",
    "    all_years_df = all_years_df.union(df)\n",
    "\n",
    "genre_popularity_df = all_years_df.groupBy(\"장르\", \"Year\").count()\n",
    "\n",
    "\n",
    "\n",
    "# 연도별로 Window를 정의하고, 각 연도 내에서 'count' 값에 따라 순위를 매김\n",
    "windowSpec = Window.partitionBy(\"Year\").orderBy(col(\"count\").desc())\n",
    "\n",
    "# 각 연도별로 가장 많이 출현한 장르만 선택\n",
    "top_genre_per_year_df = genre_popularity_df.withColumn(\"rank\", rank().over(windowSpec)) \\\n",
    "    .filter(col(\"rank\") == 1) \\\n",
    "    .drop(\"rank\")\n",
    "\n",
    "# 결과 출력 (연도별로 정렬)\n",
    "top_genre_per_year_df.orderBy(\"Year\").show(100)\n",
    "\n",
    "\n",
    "# 결과 데이터를 Pandas DataFrame으로 변환\n",
    "result_df = top_genre_per_year_df.orderBy(\"Year\").toPandas()\n",
    "\n",
    "# CSV 파일로 저장\n",
    "result_df.to_csv('result.csv', index=False, encoding='utf-8-sig')"
   ]
  }
 ],
 "metadata": {
  "language_info": {
   "name": "python"
  }
 },
 "nbformat": 4,
 "nbformat_minor": 2
}
